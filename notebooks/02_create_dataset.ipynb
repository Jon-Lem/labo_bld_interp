{
 "cells": [
  {
   "cell_type": "markdown",
   "id": "e94a68d6-8096-4877-94e9-9d4bf8a61ce7",
   "metadata": {},
   "source": [
    "# 2. PyTorch dataset and data loader\n",
    "\n",
    "In the previous notebook, we have learned how to investigate our dataset. Next up, we'll want to create a PyTorch `Dataset` and a PyTorch `DataLoader`. These will help us get our data ready to be passed through a neural network."
   ]
  },
  {
   "cell_type": "markdown",
   "id": "b5d37052-c196-40d7-8f64-3c4468943576",
   "metadata": {},
   "source": [
    "## 2.1 Creating a PyTorch dataset\n",
    "\n",
    "A [PyTorch `Dataset`](https://pytorch.org/docs/stable/data.html#torch.utils.data.Dataset) is an abstract representation of a dataset. You can do two things with a PyTorch `Dataset`: get the *item* at a certain **index**, and get the **length** of the dataset (i.e., the number of *items*). That's all. What an *item* is, is entirely up to you, but in the case of classification, it is typically a tuple of an image and a class label.\n",
    "\n",
    "### 2.1.1 Built-in datasets\n",
    "\n",
    "Torchvision already includes [many datasets](https://pytorch.org/vision/stable/datasets.html) to play around with. Let's take a look at the [MNIST](https://pytorch.org/vision/stable/generated/torchvision.datasets.MNIST.html#torchvision.datasets.MNIST) dataset."
   ]
  },
  {
   "cell_type": "code",
   "execution_count": 1,
   "id": "ececd578-3ad8-4716-8f01-6f4a515cd45b",
   "metadata": {},
   "outputs": [
    {
     "name": "stdout",
     "output_type": "stream",
     "text": [
      "Downloading http://yann.lecun.com/exdb/mnist/train-images-idx3-ubyte.gz\n",
      "Downloading http://yann.lecun.com/exdb/mnist/train-images-idx3-ubyte.gz to ../data/MNIST/raw/train-images-idx3-ubyte.gz\n"
     ]
    },
    {
     "name": "stderr",
     "output_type": "stream",
     "text": [
      "100%|███████████████████████████| 9912422/9912422 [00:00<00:00, 16729550.96it/s]\n"
     ]
    },
    {
     "name": "stdout",
     "output_type": "stream",
     "text": [
      "Extracting ../data/MNIST/raw/train-images-idx3-ubyte.gz to ../data/MNIST/raw\n",
      "\n",
      "Downloading http://yann.lecun.com/exdb/mnist/train-labels-idx1-ubyte.gz\n",
      "Downloading http://yann.lecun.com/exdb/mnist/train-labels-idx1-ubyte.gz to ../data/MNIST/raw/train-labels-idx1-ubyte.gz\n"
     ]
    },
    {
     "name": "stderr",
     "output_type": "stream",
     "text": [
      "100%|███████████████████████████████| 28881/28881 [00:00<00:00, 40231050.76it/s]"
     ]
    },
    {
     "name": "stdout",
     "output_type": "stream",
     "text": [
      "Extracting ../data/MNIST/raw/train-labels-idx1-ubyte.gz to ../data/MNIST/raw\n",
      "\n",
      "Downloading http://yann.lecun.com/exdb/mnist/t10k-images-idx3-ubyte.gz\n"
     ]
    },
    {
     "name": "stderr",
     "output_type": "stream",
     "text": [
      "\n"
     ]
    },
    {
     "name": "stdout",
     "output_type": "stream",
     "text": [
      "Downloading http://yann.lecun.com/exdb/mnist/t10k-images-idx3-ubyte.gz to ../data/MNIST/raw/t10k-images-idx3-ubyte.gz\n"
     ]
    },
    {
     "name": "stderr",
     "output_type": "stream",
     "text": [
      "100%|███████████████████████████| 1648877/1648877 [00:00<00:00, 11674104.72it/s]\n"
     ]
    },
    {
     "name": "stdout",
     "output_type": "stream",
     "text": [
      "Extracting ../data/MNIST/raw/t10k-images-idx3-ubyte.gz to ../data/MNIST/raw\n",
      "\n",
      "Downloading http://yann.lecun.com/exdb/mnist/t10k-labels-idx1-ubyte.gz\n",
      "Downloading http://yann.lecun.com/exdb/mnist/t10k-labels-idx1-ubyte.gz to ../data/MNIST/raw/t10k-labels-idx1-ubyte.gz\n"
     ]
    },
    {
     "name": "stderr",
     "output_type": "stream",
     "text": [
      "100%|██████████████████████████████████| 4542/4542 [00:00<00:00, 8554346.10it/s]"
     ]
    },
    {
     "name": "stdout",
     "output_type": "stream",
     "text": [
      "Extracting ../data/MNIST/raw/t10k-labels-idx1-ubyte.gz to ../data/MNIST/raw\n",
      "\n"
     ]
    },
    {
     "name": "stderr",
     "output_type": "stream",
     "text": [
      "\n"
     ]
    }
   ],
   "source": [
    "from torchvision.datasets import MNIST\n",
    "\n",
    "mnist_ds = MNIST(\"../data/\",train=True,download=True)"
   ]
  },
  {
   "cell_type": "markdown",
   "id": "2cf2a345-1ce2-4cb8-8669-f6c7317e56a1",
   "metadata": {},
   "source": [
    "We can ask an item at a certain index:"
   ]
  },
  {
   "cell_type": "code",
   "execution_count": 2,
   "id": "ddc48dd3-17f3-4bb1-a784-30cca2c2a361",
   "metadata": {},
   "outputs": [
    {
     "data": {
      "text/plain": [
       "(<PIL.Image.Image image mode=L size=28x28>, 5)"
      ]
     },
     "execution_count": 2,
     "metadata": {},
     "output_type": "execute_result"
    }
   ],
   "source": [
    "mnist_ds[0]"
   ]
  },
  {
   "cell_type": "markdown",
   "id": "7ed2b470-09e4-4a6f-87ff-33d8b6936adc",
   "metadata": {},
   "source": [
    "This gives us two things: an image and an integer label."
   ]
  },
  {
   "cell_type": "code",
   "execution_count": 3,
   "id": "45d60429-ab19-40ae-af49-caa278051341",
   "metadata": {},
   "outputs": [],
   "source": [
    "img , label = mnist_ds[0]"
   ]
  },
  {
   "cell_type": "code",
   "execution_count": 4,
   "id": "ca3d3e85-c871-41c9-baa7-f3f53dedef63",
   "metadata": {},
   "outputs": [
    {
     "data": {
      "image/jpeg": "[encoded data removed]",
      "image/png": "[encoded data removed]",
      "text/plain": [
       "<PIL.Image.Image image mode=L size=28x28>"
      ]
     },
     "execution_count": 4,
     "metadata": {},
     "output_type": "execute_result"
    }
   ],
   "source": [
    "img"
   ]
  },
  {
   "cell_type": "code",
   "execution_count": 5,
   "id": "1c42e864-d7a8-4861-9d48-f9d6177dea3c",
   "metadata": {},
   "outputs": [
    {
     "data": {
      "text/plain": [
       "5"
      ]
     },
     "execution_count": 5,
     "metadata": {},
     "output_type": "execute_result"
    }
   ],
   "source": [
    "label"
   ]
  },
  {
   "cell_type": "markdown",
   "id": "7214a64b-f77d-416c-8cf1-c3fa8f5bb7cd",
   "metadata": {},
   "source": [
    "We can also ask the length of the dataset."
   ]
  },
  {
   "cell_type": "code",
   "execution_count": 6,
   "id": "1f051a95-db79-4728-8a2e-671a74b2eed8",
   "metadata": {},
   "outputs": [
    {
     "data": {
      "text/plain": [
       "60000"
      ]
     },
     "execution_count": 6,
     "metadata": {},
     "output_type": "execute_result"
    }
   ],
   "source": [
    "len(mnist_ds)"
   ]
  },
  {
   "cell_type": "markdown",
   "id": "7000f987-7875-4291-9a73-4c726df244e8",
   "metadata": {},
   "source": [
    "### 2.1.2 A first attempt to a custom dataset"
   ]
  },
  {
   "cell_type": "markdown",
   "id": "fc8cdd9b-7d3d-4bc6-8dc9-35a0f9f56080",
   "metadata": {},
   "source": [
    "To implement your own dataset, you need create a class that inherits from [`torch.utils.data.Dataset`](https://pytorch.org/docs/stable/data.html#torch.utils.data.Dataset) and implements two methods: `__getitem__()` and `__len__()`.\n",
    "\n",
    "For our Pokémon use case:\n",
    "\n",
    "- `__getitem__()` should return the image at the given index, along with the name of that Pokémon;\n",
    "- `__len__()` should return the number of images.\n",
    "\n",
    "In the previous notebook, we saw how we can represent our dataset as a Pandas `DataFrame`. We can use this representation to implement `__getitem__()` and `__len__()` without much new code:"
   ]
  },
  {
   "cell_type": "code",
   "execution_count": 7,
   "id": "fbfbeff8-cde6-49fa-a7f4-52b05c8d1abd",
   "metadata": {},
   "outputs": [],
   "source": [
    "import pandas as pd\n",
    "from pathlib import Path\n",
    "from PIL import Image\n",
    "data_path = Path(\"../data/Simpsons\")\n",
    "all_files = list(data_path.glob('data/*/*'))\n",
    "df = pd.DataFrame([\n",
    "    {\n",
    "\n",
    "        'image': p,\n",
    "        'label': p.parent.name\n",
    "    }\n",
    "    for p in all_files\n",
    "])"
   ]
  },
  {
   "cell_type": "code",
   "execution_count": 8,
   "id": "d216f401-6c17-49ba-ba4c-39b995a4fa46",
   "metadata": {},
   "outputs": [],
   "source": [
    "from torch.utils.data import Dataset\n",
    "\n",
    "class SimpsonsDataset(Dataset):\n",
    "    def __init__(self,datapath,transform=None):\n",
    "        data_path= Path(datapath)\n",
    "        self.df = pd.DataFrame([\n",
    "        {\n",
    "    \n",
    "            'image': p,\n",
    "            'label': p.parent.name\n",
    "        }\n",
    "        \n",
    "        \n",
    "        for p in data_path.glob('data/*/*')\n",
    "        ])\n",
    "        self.transform = transform\n",
    "        \n",
    "    def __getitem__(self,idx):\n",
    "        row = self.df.iloc[idx]\n",
    "        img_path = row['image']\n",
    "        label = row['label']\n",
    "        img = Image.open(img_path)\n",
    "\n",
    "        if self.transform is not None:\n",
    "            img = self.transform(img)\n",
    "        return img, label\n",
    "\n",
    "    def __len__(self):\n",
    "        return len(self.df)"
   ]
  },
  {
   "cell_type": "markdown",
   "id": "501a4255-0d7d-4639-aa12-683405adf26c",
   "metadata": {},
   "source": [
    "We can play around with this dataset, just like with the MNIST dataset."
   ]
  },
  {
   "cell_type": "code",
   "execution_count": 9,
   "id": "1d076d02-4f1a-4be0-8108-ff2f11a27a74",
   "metadata": {},
   "outputs": [
    {
     "data": {
      "text/plain": [
       "(<PIL.JpegImagePlugin.JpegImageFile image mode=RGB size=330x256>,\n",
       " 'ned_flanders')"
      ]
     },
     "execution_count": 9,
     "metadata": {},
     "output_type": "execute_result"
    }
   ],
   "source": [
    "ds = SimpsonsDataset(\"../data/Simpsons\")\n",
    "ds[0]"
   ]
  },
  {
   "cell_type": "markdown",
   "id": "a31f8bba-88e7-4227-9871-611c88d3d4bc",
   "metadata": {},
   "source": [
    "While this is already a perfectly valid PyTorch `Dataset`, there are two issues:\n",
    "\n",
    "1. Our labels are strings;\n",
    "2. We don't make a distinction between train, validation and test data.\n",
    "\n",
    "> 🤔 **Why is it a problem that our labels are strings?**\n",
    ">\n",
    "> When training a network, we typically iterate over *batches* of data. These batches are represented as PyTorch tensors. And it is not possible (and not necessary, really) to create a tensor of strings.\n",
    "\n",
    "We'll solve both issues in the following sections.\n",
    "\n",
    "### 2.1.3 Replacing string labels with integer labels\n",
    "\n",
    "First, we'll replace our string labels by integer labels. For this, we'll create a dictionary that maps each string label to a unique integer."
   ]
  },
  {
   "cell_type": "code",
   "execution_count": 10,
   "id": "dc2e6dcd-2213-4819-85ff-0d2d33381d7c",
   "metadata": {},
   "outputs": [],
   "source": [
    "df = pd.DataFrame([\n",
    "        {\n",
    "    \n",
    "            'image': p,\n",
    "            'label': p.parent.name\n",
    "        }\n",
    "        \n",
    "        \n",
    "        for p in data_path.glob('data/*/*')\n",
    "        ])"
   ]
  },
  {
   "cell_type": "markdown",
   "id": "28016453-d16e-421f-95dc-e683d16152db",
   "metadata": {},
   "source": [
    "To get a list of unique labels, we can call [`unique()`](https://pandas.pydata.org/docs/reference/api/pandas.Series.unique.html) on the `label` column:"
   ]
  },
  {
   "cell_type": "code",
   "execution_count": 11,
   "id": "fde56d57-3c95-497f-b6c6-3af4bca7f993",
   "metadata": {
    "scrolled": true
   },
   "outputs": [
    {
     "data": {
      "text/plain": [
       "array(['ned_flanders', 'bart_simpson', 'otto_mann',\n",
       "       'apu_nahasapeemapetilon', 'nelson_muntz', 'ralph_wiggum',\n",
       "       'maggie_simpson', 'carl_carlson', 'homer_simpson',\n",
       "       'charles_montgomery_burns', 'comic_book_guy', 'martin_prince',\n",
       "       'edna_krabappel', 'principal_skinner', 'fat_tony', 'chief_wiggum',\n",
       "       'troy_mcclure', 'sideshow_bob', 'cletus_spuckler', 'agnes_skinner',\n",
       "       'waylon_smithers', 'barney_gumble', 'rainier_wolfcastle',\n",
       "       'groundskeeper_willie', 'patty_bouvier', 'milhouse_van_houten',\n",
       "       'sideshow_mel', 'snake_jailbird', 'lionel_hutz', 'disco_stu',\n",
       "       'krusty_the_clown', 'gil', 'kent_brockman', 'selma_bouvier',\n",
       "       'lisa_simpson', 'moe_szyslak', 'miss_hoover', 'lenny_leonard',\n",
       "       'mayor_quimby', 'abraham_grampa_simpson', 'marge_simpson',\n",
       "       'professor_john_frink'], dtype=object)"
      ]
     },
     "execution_count": 11,
     "metadata": {},
     "output_type": "execute_result"
    }
   ],
   "source": [
    "df['label'].unique()"
   ]
  },
  {
   "cell_type": "markdown",
   "id": "53f8294b-8e4d-4524-b150-cc97692fa7c5",
   "metadata": {},
   "source": [
    "To ensure a consistent mapping across different systems, we can sort these labels with [the built-in Python function `sorted()`](https://docs.python.org/3/library/functions.html#sorted):"
   ]
  },
  {
   "cell_type": "code",
   "execution_count": 12,
   "id": "80660a93-a955-459c-9221-435b19542d70",
   "metadata": {
    "scrolled": true
   },
   "outputs": [
    {
     "data": {
      "text/plain": [
       "['abraham_grampa_simpson',\n",
       " 'agnes_skinner',\n",
       " 'apu_nahasapeemapetilon',\n",
       " 'barney_gumble',\n",
       " 'bart_simpson',\n",
       " 'carl_carlson',\n",
       " 'charles_montgomery_burns',\n",
       " 'chief_wiggum',\n",
       " 'cletus_spuckler',\n",
       " 'comic_book_guy',\n",
       " 'disco_stu',\n",
       " 'edna_krabappel',\n",
       " 'fat_tony',\n",
       " 'gil',\n",
       " 'groundskeeper_willie',\n",
       " 'homer_simpson',\n",
       " 'kent_brockman',\n",
       " 'krusty_the_clown',\n",
       " 'lenny_leonard',\n",
       " 'lionel_hutz',\n",
       " 'lisa_simpson',\n",
       " 'maggie_simpson',\n",
       " 'marge_simpson',\n",
       " 'martin_prince',\n",
       " 'mayor_quimby',\n",
       " 'milhouse_van_houten',\n",
       " 'miss_hoover',\n",
       " 'moe_szyslak',\n",
       " 'ned_flanders',\n",
       " 'nelson_muntz',\n",
       " 'otto_mann',\n",
       " 'patty_bouvier',\n",
       " 'principal_skinner',\n",
       " 'professor_john_frink',\n",
       " 'rainier_wolfcastle',\n",
       " 'ralph_wiggum',\n",
       " 'selma_bouvier',\n",
       " 'sideshow_bob',\n",
       " 'sideshow_mel',\n",
       " 'snake_jailbird',\n",
       " 'troy_mcclure',\n",
       " 'waylon_smithers']"
      ]
     },
     "execution_count": 12,
     "metadata": {},
     "output_type": "execute_result"
    }
   ],
   "source": [
    "sorted(df['label'].unique())"
   ]
  },
  {
   "cell_type": "markdown",
   "id": "6f3739f9-16da-41ef-8bc2-2ace902a8e34",
   "metadata": {},
   "source": [
    "Now, with [the built-in Python function `enumerate()`](https://docs.python.org/3/library/functions.html#enumerate), we can get an iterable that yields another integer value for each of our labels."
   ]
  },
  {
   "cell_type": "code",
   "execution_count": 13,
   "id": "708d8878-6e36-49b2-8c8c-51fe01c0f3a1",
   "metadata": {
    "scrolled": true
   },
   "outputs": [
    {
     "name": "stdout",
     "output_type": "stream",
     "text": [
      "0 abraham_grampa_simpson\n",
      "1 agnes_skinner\n",
      "2 apu_nahasapeemapetilon\n",
      "3 barney_gumble\n",
      "4 bart_simpson\n",
      "5 carl_carlson\n",
      "6 charles_montgomery_burns\n",
      "7 chief_wiggum\n",
      "8 cletus_spuckler\n",
      "9 comic_book_guy\n",
      "10 disco_stu\n",
      "11 edna_krabappel\n",
      "12 fat_tony\n",
      "13 gil\n",
      "14 groundskeeper_willie\n",
      "15 homer_simpson\n",
      "16 kent_brockman\n",
      "17 krusty_the_clown\n",
      "18 lenny_leonard\n",
      "19 lionel_hutz\n",
      "20 lisa_simpson\n",
      "21 maggie_simpson\n",
      "22 marge_simpson\n",
      "23 martin_prince\n",
      "24 mayor_quimby\n",
      "25 milhouse_van_houten\n",
      "26 miss_hoover\n",
      "27 moe_szyslak\n",
      "28 ned_flanders\n",
      "29 nelson_muntz\n",
      "30 otto_mann\n",
      "31 patty_bouvier\n",
      "32 principal_skinner\n",
      "33 professor_john_frink\n",
      "34 rainier_wolfcastle\n",
      "35 ralph_wiggum\n",
      "36 selma_bouvier\n",
      "37 sideshow_bob\n",
      "38 sideshow_mel\n",
      "39 snake_jailbird\n",
      "40 troy_mcclure\n",
      "41 waylon_smithers\n"
     ]
    }
   ],
   "source": [
    "for i, label in enumerate(sorted(df['label'].unique())):\n",
    "    \n",
    "    print(i, label)"
   ]
  },
  {
   "cell_type": "markdown",
   "id": "3adb35df-3a02-49c0-817b-eede45a64a5f",
   "metadata": {},
   "source": [
    "So, we can create our label-to-integer dictionary with the following `for` loop:"
   ]
  },
  {
   "cell_type": "code",
   "execution_count": 14,
   "id": "aba3371c-e5ca-4866-adbd-9e66eab8b7d4",
   "metadata": {
    "scrolled": true
   },
   "outputs": [],
   "source": [
    "label_to_int = {}\n",
    "for i, label in enumerate(sorted(df['label'].unique())):\n",
    "    \n",
    "    label_to_int[label] = i"
   ]
  },
  {
   "cell_type": "markdown",
   "id": "b27170a9-ee1e-4029-8d37-5e1f80b0e59e",
   "metadata": {},
   "source": [
    "Or, we can use a [dictionary comprehension](https://www.geeksforgeeks.org/python-dictionary-comprehension/):"
   ]
  },
  {
   "cell_type": "code",
   "execution_count": 15,
   "id": "ba271583-162f-4393-bd02-e4063a035d24",
   "metadata": {
    "scrolled": true
   },
   "outputs": [
    {
     "data": {
      "text/plain": [
       "{'abraham_grampa_simpson': 0,\n",
       " 'agnes_skinner': 1,\n",
       " 'apu_nahasapeemapetilon': 2,\n",
       " 'barney_gumble': 3,\n",
       " 'bart_simpson': 4,\n",
       " 'carl_carlson': 5,\n",
       " 'charles_montgomery_burns': 6,\n",
       " 'chief_wiggum': 7,\n",
       " 'cletus_spuckler': 8,\n",
       " 'comic_book_guy': 9,\n",
       " 'disco_stu': 10,\n",
       " 'edna_krabappel': 11,\n",
       " 'fat_tony': 12,\n",
       " 'gil': 13,\n",
       " 'groundskeeper_willie': 14,\n",
       " 'homer_simpson': 15,\n",
       " 'kent_brockman': 16,\n",
       " 'krusty_the_clown': 17,\n",
       " 'lenny_leonard': 18,\n",
       " 'lionel_hutz': 19,\n",
       " 'lisa_simpson': 20,\n",
       " 'maggie_simpson': 21,\n",
       " 'marge_simpson': 22,\n",
       " 'martin_prince': 23,\n",
       " 'mayor_quimby': 24,\n",
       " 'milhouse_van_houten': 25,\n",
       " 'miss_hoover': 26,\n",
       " 'moe_szyslak': 27,\n",
       " 'ned_flanders': 28,\n",
       " 'nelson_muntz': 29,\n",
       " 'otto_mann': 30,\n",
       " 'patty_bouvier': 31,\n",
       " 'principal_skinner': 32,\n",
       " 'professor_john_frink': 33,\n",
       " 'rainier_wolfcastle': 34,\n",
       " 'ralph_wiggum': 35,\n",
       " 'selma_bouvier': 36,\n",
       " 'sideshow_bob': 37,\n",
       " 'sideshow_mel': 38,\n",
       " 'snake_jailbird': 39,\n",
       " 'troy_mcclure': 40,\n",
       " 'waylon_smithers': 41}"
      ]
     },
     "execution_count": 15,
     "metadata": {},
     "output_type": "execute_result"
    }
   ],
   "source": [
    "label_to_int = {label: i for i, label in enumerate(sorted(df['label'].unique()))}\n",
    "label_to_int"
   ]
  },
  {
   "cell_type": "markdown",
   "id": "8cdb7c89-fd4a-438b-b95b-d529aa54adbf",
   "metadata": {},
   "source": [
    "We can plug this into our SimpsonsDataset:"
   ]
  },
  {
   "cell_type": "code",
   "execution_count": 16,
   "id": "704c42e3-c94d-4423-80d7-67fe3a7532a9",
   "metadata": {},
   "outputs": [],
   "source": [
    "class SimpsonsDataset(Dataset):\n",
    "    def __init__(self,datapath,transform=None):\n",
    "        data_path= Path(datapath)\n",
    "        df = pd.DataFrame([\n",
    "        {\n",
    "    \n",
    "            'image': p,\n",
    "            'label': p.parent.name\n",
    "        }\n",
    "        \n",
    "        \n",
    "        for p in data_path.glob('data/*/*')\n",
    "        ])\n",
    "        label_to_int = {label: i for i, label in enumerate(sorted(df['label'].unique()))}\n",
    "\n",
    "        self.df = df\n",
    "        self.label_to_int = label_to_int\n",
    "        self.transform = transform\n",
    "        \n",
    "    def __getitem__(self,idx):\n",
    "        row = self.df.iloc[idx]\n",
    "        img_path = row['image']\n",
    "        label = row['label']\n",
    "        img = Image.open(img_path)\n",
    "\n",
    "        if self.transform is not None:\n",
    "            img = self.transform(img)\n",
    "        return img, label\n",
    "\n",
    "    def __len__(self):\n",
    "        return len(self.df)"
   ]
  },
  {
   "cell_type": "markdown",
   "id": "8e9383a4-23a8-497a-aba6-9814b3e07ca7",
   "metadata": {},
   "source": [
    "Let's try out our new dataset."
   ]
  },
  {
   "cell_type": "code",
   "execution_count": 17,
   "id": "80867fbd-c0eb-42f1-b076-2fcc5e6cee9f",
   "metadata": {},
   "outputs": [
    {
     "data": {
      "text/plain": [
       "(<PIL.JpegImagePlugin.JpegImageFile image mode=RGB size=330x256>,\n",
       " 'ned_flanders')"
      ]
     },
     "execution_count": 17,
     "metadata": {},
     "output_type": "execute_result"
    }
   ],
   "source": [
    "ds = SimpsonsDataset(\"../data/Simpsons\")\n",
    "ds[0]"
   ]
  },
  {
   "attachments": {},
   "cell_type": "markdown",
   "id": "98bad5cc-d9b1-4654-8a0d-e28d8c1d40e0",
   "metadata": {},
   "source": [
    "### 2.1.4 Splitting the data into a train, validation and test split\n",
    "\n",
    "Training a neural network and testing it on the same data is a methodological mistake: a model that would just repeat the labels of the samples that it has just seen would achieve a perfect score but would fail to predict anything useful on data that was not used during training. This situation is called **overfitting**. To get a better sense of model performance on *unseen* data, it is customary to randomly split the dataset into three disjoint subsets.\n",
    "\n",
    "1. **Training set**: You train the model with the training set.\n",
    "2. **Validation set**: Every X training iterations, you evaluate the model performance on the validation set. It is common to only keep the model that obtained the best validation score during training. When training multiple models with different configurations (or *hyperparameters*), you should use the evaluation on the validation set to decide which model to keep.\n",
    "3. **Test set**: *Once you have decided a model based on validation perfomance*, you evaluate on the test set to get an estimate of the model's ability to generalize to unseen data. In many machine learning competitions, to avoid cheating, the test set is either unlabeled or unavailable to the participants.\n",
    "\n",
    "As you see, the validation set is used to compare different model configurations, or *hyperparameters*. This could simply be the number of iterations used to train the model, but this also includes the choice of data augmentations, optimizer, learning rate, model architecture (number of layers, number of neurons in a layer, kind of layer,...) etc.\n",
    "\n",
    "To split our dataset into these subsets, we can use [`sklearn.model_selection.train_test_split()`](https://scikit-learn.org/stable/modules/generated/sklearn.model_selection.train_test_split.html#sklearn.model_selection.train_test_split)."
   ]
  },
  {
   "cell_type": "code",
   "execution_count": 18,
   "id": "68764b71-5999-4d8a-b083-f37cb7c485b1",
   "metadata": {},
   "outputs": [],
   "source": [
    "from sklearn.model_selection import train_test_split"
   ]
  },
  {
   "cell_type": "code",
   "execution_count": 19,
   "id": "62e67766-af98-497f-b02b-4ae2ccb14c50",
   "metadata": {},
   "outputs": [],
   "source": [
    "df_trainval, df_test = train_test_split(df, train_size=0.8, random_state=42)\n",
    "df_train,df_val = train_test_split(df, train_size=0.8, random_state=42)"
   ]
  },
  {
   "cell_type": "markdown",
   "id": "d65161a8-5a34-4060-9b25-d137db5e7f65",
   "metadata": {},
   "source": [
    "We can update our `SimpsonsDataset` so that, depending on a given constructor argument, the correct subset is used."
   ]
  },
  {
   "cell_type": "code",
   "execution_count": 20,
   "id": "023a3f16-f244-46a8-a0cf-b6e433eb4adc",
   "metadata": {},
   "outputs": [],
   "source": [
    "\\section{Opdrachtbeschrijving}class SimpsonsDataset(Dataset):\n",
    "    def __init__(self,datapath, subset, transform=None):\n",
    "        data_path= Path(datapath)\n",
    "        df = pd.DataFrame([\n",
    "        {\n",
    "    \n",
    "            'image': p,\n",
    "            'label': p.parent.name\n",
    "        }\n",
    "        \n",
    "        \n",
    "        for p in data_path.glob('data/*/*')\n",
    "        ])\n",
    "        label_to_int = {label: i for i, label in enumerate(sorted(df['label'].unique()))}\n",
    "\n",
    "        #Train, test and val\n",
    "        df_trainval, df_test = train_test_split(df, train_size=0.8, random_state=42)\n",
    "        df_train, df_val = train_test_split(df, train_size=0.8, random_state=42)\n",
    "\n",
    "        self.df = df\n",
    "        self.label_to_int = label_to_int\n",
    "        self.transform = transform\n",
    "\n",
    "        if subset == 'train':\n",
    "            self.df = df_train.reset_index()\n",
    "        elif subset == 'val':\n",
    "            self.df = df_val.reset_index()\n",
    "        elif subset == 'test':\n",
    "            self.df = df_val.reset_index()\n",
    "        \n",
    "    def __getitem__(self,idx):\n",
    "        row = self.df.iloc[idx]\n",
    "        img_path = row['image']\n",
    "        label = row['label']\n",
    "        img = Image.open(img_path)\n",
    "\n",
    "        if self.transform is not None:\n",
    "            img = self.transform(img)\n",
    "        return img, label\n",
    "\n",
    "    def __len__(self):\n",
    "        return len(self.df)"
   ]
  },
  {
   "cell_type": "markdown",
   "id": "16c44e40-ed2e-44d5-9cd0-59d363450952",
   "metadata": {},
   "source": [
    "Let's try it out..."
   ]
  },
  {
   "cell_type": "code",
   "execution_count": 21,
   "id": "89fc150f-ffe1-41ab-967c-d1e583eaea81",
   "metadata": {},
   "outputs": [
    {
     "data": {
      "text/plain": [
       "(<PIL.JpegImagePlugin.JpegImageFile image mode=RGB size=312x352>,\n",
       " 'comic_book_guy')"
      ]
     },
     "execution_count": 21,
     "metadata": {},
     "output_type": "execute_result"
    }
   ],
   "source": [
    "ds_train = SimpsonsDataset(\"../data/Simpsons\",subset='train')\n",
    "ds_train[0]"
   ]
  },
  {
   "cell_type": "markdown",
   "id": "e138eebc-b542-40eb-9487-86c59d557496",
   "metadata": {},
   "source": [
    "### 2.1.5 Cross-validation\n",
    "\n",
    "Choosing the model that achieved the best performance on the validation set (instead of the training set) avoids selecting a model that has overfit. However, when comparing many models based on validation score, we might select a model that only worked best for the particular random choice of training and validation data. To make a better-informed decision, we can use **cross-validation** techniques.\n",
    "\n",
    "A basic cross-validation technique is **$k$-fold cross-validation**. Here, the data set is first split up into only two subsets: a *training* set and a *test* set. The training set is partitioned into **$k$ equally-sized folds**. When training a model, we choose one fold for *validation* and the other $k - 1$ folds for *training*. By training a certain model configuration with all $k$ different choices for training and validation and averaging the validation scores, we can effectively select the best model configuration in a more reliable and robust manner. The figure below illustrates the process of $k$-fold cross-validation ([source](https://scikit-learn.org/stable/modules/cross_validation.html)).\n",
    "\n",
    "<img src=\"https://scikit-learn.org/stable/_images/grid_search_cross_validation.png\" style=\"max-width: 500px; margin: auto; padding: 2em;\"/>\n",
    "\n",
    "To add support for $k$-fold cross validation to our `PokemonDataset`, we'll first use `train_test_split()` to split our dataset into train+val and test set. Then, with [`numpy.array_split()`](https://numpy.org/doc/stable/reference/generated/numpy.array_split.html), we can split the train+val set into $k$ folds."
   ]
  },
  {
   "cell_type": "code",
   "execution_count": 22,
   "id": "1e7c5f90-ddbb-402e-97e8-c4bd7110b07c",
   "metadata": {},
   "outputs": [
    {
     "name": "stderr",
     "output_type": "stream",
     "text": [
      "/home/jonas/.local/lib/python3.10/site-packages/numpy/core/fromnumeric.py:59: FutureWarning: 'DataFrame.swapaxes' is deprecated and will be removed in a future version. Please use 'DataFrame.transpose' instead.\n",
      "  return bound(*args, **kwds)\n"
     ]
    }
   ],
   "source": [
    "import numpy as np\n",
    "\n",
    "df_trainval, df_test = train_test_split(df, train_size=0.8, random_state=42)\n",
    "k=5\n",
    "folds =  np.array_split(df_trainval,k) "
   ]
  },
  {
   "cell_type": "markdown",
   "id": "9bfb64f9-be7e-4001-930a-3317a6e35658",
   "metadata": {},
   "source": [
    "Now, we can choose which fold to use for validation. The other folds should be concatenated to create the training set."
   ]
  },
  {
   "cell_type": "code",
   "execution_count": 23,
   "id": "44ca9e13-2141-415e-a8dc-01887dd24785",
   "metadata": {},
   "outputs": [],
   "source": [
    "val_fold = 0\n",
    "df_val = folds[val_fold]\n",
    "train_folds = [fold for i, fold in enumerate(folds) if i != val_fold]\n",
    "df_train = pd.concat(train_folds)"
   ]
  },
  {
   "cell_type": "markdown",
   "id": "cb21c21e-ec62-4d78-9870-657b83fa0109",
   "metadata": {},
   "source": [
    "Plugging this into our `SimpsonsDataset`:"
   ]
  },
  {
   "cell_type": "code",
   "execution_count": 24,
   "id": "d2f3d928-ed42-452a-b02a-827ddb9445fd",
   "metadata": {},
   "outputs": [],
   "source": [
    "class SimpsonsDataset(Dataset):\n",
    "    def __init__(self,datapath, subset, k=5, val_fold = 0, transform=None):\n",
    "        data_path= Path(datapath)\n",
    "        df = pd.DataFrame([\n",
    "        {\n",
    "    \n",
    "            'image': p,\n",
    "            'label': p.parent.name\n",
    "        }\n",
    "        \n",
    "        \n",
    "        for p in data_path.glob('data/*/*')\n",
    "        ])\n",
    "        label_to_int = {label: i for i, label in enumerate(sorted(df['label'].unique()))}\n",
    "\n",
    "        #Train, test and val\n",
    "        df_trainval, df_test = train_test_split(df, train_size=0.8, random_state=42)\n",
    "\n",
    "        # Cross Validation\n",
    "        folds = np.array_split(df_trainval, k)\n",
    "        df_val = folds[val_fold]\n",
    "        train_folds = [fold for i, fold in enumerate(folds) if i != val_fold]\n",
    "        df_train = pd.concat(train_folds)\n",
    "        \n",
    "        self.df = df\n",
    "        self.label_to_int = label_to_int\n",
    "        self.transform = transform\n",
    "\n",
    "        if subset == 'train':\n",
    "            self.df = df_train.reset_index()\n",
    "        elif subset == 'val':\n",
    "            self.df = df_val.reset_index()\n",
    "        elif subset == 'test':\n",
    "            self.df = df_val.reset_index()\n",
    "        \n",
    "    def __getitem__(self,idx):\n",
    "        row = self.df.iloc[idx]\n",
    "        img_path = row['image']\n",
    "        label = row['label']\n",
    "        img = Image.open(img_path)\n",
    "\n",
    "        if self.transform is not None:\n",
    "            img = self.transform(img)\n",
    "        return img, label\n",
    "\n",
    "    def __len__(self):\n",
    "        return len(self.df)"
   ]
  },
  {
   "cell_type": "markdown",
   "id": "7bb27d3b-93a7-45ad-a651-25c9d21b13b6",
   "metadata": {},
   "source": [
    "Now we can create a training set, validation set and test set:"
   ]
  },
  {
   "cell_type": "code",
   "execution_count": 25,
   "id": "333df9a0-1b73-4ece-a620-5c252714fe65",
   "metadata": {},
   "outputs": [
    {
     "name": "stderr",
     "output_type": "stream",
     "text": [
      "/home/jonas/.local/lib/python3.10/site-packages/numpy/core/fromnumeric.py:59: FutureWarning: 'DataFrame.swapaxes' is deprecated and will be removed in a future version. Please use 'DataFrame.transpose' instead.\n",
      "  return bound(*args, **kwds)\n",
      "/home/jonas/.local/lib/python3.10/site-packages/numpy/core/fromnumeric.py:59: FutureWarning: 'DataFrame.swapaxes' is deprecated and will be removed in a future version. Please use 'DataFrame.transpose' instead.\n",
      "  return bound(*args, **kwds)\n"
     ]
    }
   ],
   "source": [
    "import torch\n",
    "from torchvision.transforms import v2\n",
    "\n",
    "# Create transforms\n",
    "train_tfms = v2.Compose([\n",
    "    v2.ToImage(),\n",
    "    v2.RandomHorizontalFlip(),\n",
    "    v2.RandomRotation(30),\n",
    "    v2.RandomResizedCrop(224, antialias=True),\n",
    "    v2.ToDtype(torch.float32, scale=True),\n",
    "    v2.Normalize(mean=[0.485, 0.456, 0.406], std=[0.229, 0.224, 0.225]),\n",
    "])\n",
    "# Bij de validatie set geen randomness\n",
    "val_tfms = v2.Compose([\n",
    "    v2.ToImage(),\n",
    "    v2.Resize(224, antialias=True),\n",
    "    v2.CenterCrop(224),\n",
    "    v2.ToDtype(torch.float32, scale=True),\n",
    "    v2.Normalize(mean=[0.485, 0.456, 0.406], std=[0.229, 0.224, 0.225]),\n",
    "])\n",
    "\n",
    "# Create datasets\n",
    "ds_train = SimpsonsDataset('../data/Simpsons', 'train', transform=train_tfms)\n",
    "ds_val = SimpsonsDataset('../data/Simpsons', 'val', transform=val_tfms)\n",
    "ds_test = SimpsonsDataset('../data/Simpsons', 'test', transform=val_tfms)"
   ]
  },
  {
   "cell_type": "markdown",
   "id": "e9cb8f52-a3ae-4ad0-aeda-31906cc7502a",
   "metadata": {},
   "source": [
    "> ⚠️ **Don't use random transforms for validation or test set!**\n",
    ">\n",
    "> To avoid making the validation and test evaluations irreproducible, you should not use randomness in the transforms that you'll use for the validation and test set.\n",
    "\n",
    "Hooray! 🙌 We now have a full-fledged PyTorch `Dataset` with support for $k$-fold cross-validation! 🎉"
   ]
  },
  {
   "cell_type": "markdown",
   "id": "354dc290-0d9a-4d1d-b427-926424a92131",
   "metadata": {},
   "source": [
    "## 2.2 PyTorch data loader\n",
    "\n",
    "A PyTorch `Dataset` allows us to easily get images (and labels) from our dataset. When training a neural network, however, we can save training time by training with **batches** of data, instead of passing the images through the network one-by-one.\n",
    "\n",
    "Batching your data is the task of the [PyTorch `DataLoader`](https://pytorch.org/docs/stable/data.html#torch.utils.data.DataLoader). Given a PyTorch `Dataset` that returns a tuple with an image tensor and an integer label, it is very simple to create a `DataLoader`:"
   ]
  },
  {
   "cell_type": "code",
   "execution_count": 26,
   "id": "33459067-70bd-45e0-a3a5-c393ae9f0993",
   "metadata": {},
   "outputs": [],
   "source": [
    "from torch.utils.data import DataLoader\n",
    "\n",
    "dl_train = DataLoader(ds_train, batch_size=10)"
   ]
  },
  {
   "cell_type": "markdown",
   "id": "41c43cee-01c4-4c0a-89c3-0ad923165ed6",
   "metadata": {},
   "source": [
    "A `DataLoader` is an iterable, where each iteration item is a batch of data samples. As with any iterable in Python, you can iterate over a `DataLoader` using a `for` loop. Let's inspect what's inside an iteration item."
   ]
  },
  {
   "cell_type": "code",
   "execution_count": 27,
   "id": "a45a4fd8-8a2d-47ad-bed7-a83742ec1633",
   "metadata": {
    "scrolled": true
   },
   "outputs": [
    {
     "data": {
      "text/plain": [
       "[tensor([[[[-2.1179, -2.1179, -2.1179,  ..., -1.8439, -1.8953, -1.9467],\n",
       "           [-2.1179, -2.1179, -2.1179,  ..., -1.8439, -1.8953, -1.9467],\n",
       "           [-2.1179, -2.1179, -2.1179,  ..., -1.8439, -1.8953, -1.9467],\n",
       "           ...,\n",
       "           [-0.3712, -0.3883, -0.4054,  ..., -1.6042, -1.6042, -1.6042],\n",
       "           [-0.3712, -0.3883, -0.4054,  ..., -1.4843, -1.5014, -1.5014],\n",
       "           [-0.3712, -0.3883, -0.4054,  ..., -1.4158, -1.4329, -1.4500]],\n",
       " \n",
       "          [[-2.0357, -2.0357, -2.0357,  ..., -1.8081, -1.8606, -1.9132],\n",
       "           [-2.0357, -2.0357, -2.0357,  ..., -1.8081, -1.8606, -1.9132],\n",
       "           [-2.0357, -2.0357, -2.0357,  ..., -1.8081, -1.8606, -1.9132],\n",
       "           ...,\n",
       "           [-0.3550, -0.3200, -0.3025,  ..., -1.4405, -1.4405, -1.4405],\n",
       "           [-0.3375, -0.3200, -0.3025,  ..., -1.3354, -1.3529, -1.3704],\n",
       "           [-0.3375, -0.3200, -0.3025,  ..., -1.2829, -1.3004, -1.3179]],\n",
       " \n",
       "          [[-1.8044, -1.8044, -1.8044,  ..., -1.2816, -1.3339, -1.3861],\n",
       "           [-1.8044, -1.8044, -1.8044,  ..., -1.2816, -1.3339, -1.3861],\n",
       "           [-1.8044, -1.8044, -1.8044,  ..., -1.2816, -1.3339, -1.3861],\n",
       "           ...,\n",
       "           [ 0.6356,  0.5659,  0.5136,  ..., -1.5779, -1.5953, -1.6127],\n",
       "           [ 0.6182,  0.5485,  0.4788,  ..., -1.4733, -1.4907, -1.5256],\n",
       "           [ 0.6008,  0.5311,  0.4614,  ..., -1.4210, -1.4384, -1.4733]]],\n",
       " \n",
       " \n",
       "         [[[ 2.2147,  2.2147,  2.2147,  ..., -0.2513, -0.2684, -0.2684],\n",
       "           [ 2.2147,  2.2147,  2.2147,  ..., -0.2684, -0.2856, -0.2856],\n",
       "           [ 2.2318,  2.2318,  2.2147,  ..., -0.3198, -0.3369, -0.3369],\n",
       "           ...,\n",
       "           [ 2.1633,  1.9920,  1.3584,  ..., -0.1657, -0.1657, -0.1657],\n",
       "           [ 2.1633,  2.0948,  1.8722,  ..., -0.1657, -0.1486, -0.1486],\n",
       "           [ 2.1633,  2.1462,  2.0777,  ..., -0.1657, -0.1486, -0.1486]],\n",
       " \n",
       "          [[ 2.1660,  2.1660,  2.1660,  ..., -1.1604, -1.1429, -1.1429],\n",
       "           [ 2.1660,  2.1660,  2.1660,  ..., -1.1779, -1.1604, -1.1604],\n",
       "           [ 2.1660,  2.1660,  2.1660,  ..., -1.2129, -1.1954, -1.1954],\n",
       "           ...,\n",
       "           [ 2.1310,  1.9559,  1.3256,  ..., -1.2479, -1.2479, -1.2479],\n",
       "           [ 2.1310,  2.0609,  1.8333,  ..., -1.2304, -1.2304, -1.2304],\n",
       "           [ 2.1310,  2.1134,  2.0434,  ..., -1.2304, -1.2304, -1.2304]],\n",
       " \n",
       "          [[-0.9678, -0.9678, -0.9678,  ..., -1.2467, -1.2467, -1.2467],\n",
       "           [-0.9678, -0.9678, -0.9678,  ..., -1.2641, -1.2641, -1.2641],\n",
       "           [-0.9853, -0.9853, -0.9678,  ..., -1.3164, -1.3164, -1.3164],\n",
       "           ...,\n",
       "           [ 0.5659,  0.3916, -0.2010,  ..., -1.2816, -1.2816, -1.2816],\n",
       "           [ 0.5659,  0.5136,  0.3045,  ..., -1.2816, -1.2641, -1.2641],\n",
       "           [ 0.5659,  0.5485,  0.4962,  ..., -1.2816, -1.2641, -1.2641]]],\n",
       " \n",
       " \n",
       "         [[[-2.1179, -2.1179, -2.1179,  ..., -2.1179, -2.1179, -2.1179],\n",
       "           [-2.1179, -2.1179, -2.1179,  ..., -2.1179, -2.1179, -2.1179],\n",
       "           [-2.1179, -2.1179, -2.1179,  ..., -2.1179, -2.1179, -2.1179],\n",
       "           ...,\n",
       "           [-0.0972, -0.1143, -0.1486,  ..., -0.4054, -0.3541, -0.2856],\n",
       "           [-0.0972, -0.1486, -0.1657,  ..., -0.3541, -0.2856, -0.2684],\n",
       "           [-0.0972, -0.1657, -0.2513,  ..., -0.3027, -0.2342, -0.1999]],\n",
       " \n",
       "          [[-2.0357, -2.0357, -2.0357,  ..., -2.0357, -2.0357, -2.0357],\n",
       "           [-2.0357, -2.0357, -2.0357,  ..., -2.0357, -2.0357, -2.0357],\n",
       "           [-2.0357, -2.0357, -2.0357,  ..., -2.0357, -2.0357, -2.0357],\n",
       "           ...,\n",
       "           [-1.2479, -1.2654, -1.2654,  ..., -0.9153, -0.7927, -0.6702],\n",
       "           [-1.2304, -1.2654, -1.2829,  ..., -0.7927, -0.6702, -0.6527],\n",
       "           [-1.2304, -1.2654, -1.3179,  ..., -0.6527, -0.5476, -0.5301]],\n",
       " \n",
       "          [[-1.8044, -1.8044, -1.8044,  ..., -1.8044, -1.8044, -1.8044],\n",
       "           [-1.8044, -1.8044, -1.8044,  ..., -1.8044, -1.8044, -1.8044],\n",
       "           [-1.8044, -1.8044, -1.8044,  ..., -1.8044, -1.8044, -1.8044],\n",
       "           ...,\n",
       "           [-1.2816, -1.1944, -1.1421,  ..., -0.6890, -0.6367, -0.5844],\n",
       "           [-1.2641, -1.2293, -1.1596,  ..., -0.5670, -0.4973, -0.5321],\n",
       "           [-1.2467, -1.2467, -1.2816,  ..., -0.4101, -0.3578, -0.3927]]],\n",
       " \n",
       " \n",
       "         ...,\n",
       " \n",
       " \n",
       "         [[[-2.1179, -2.1179, -2.1179,  ..., -0.1143, -0.1143, -0.1143],\n",
       "           [-2.1179, -2.1179, -2.1179,  ..., -0.1143, -0.1143, -0.1143],\n",
       "           [-2.1179, -2.1179, -2.1179,  ..., -0.1143, -0.1143, -0.1143],\n",
       "           ...,\n",
       "           [-2.1179, -2.1179, -2.1179,  ..., -2.1179, -2.1179, -2.1179],\n",
       "           [-2.1179, -2.1179, -2.1179,  ..., -2.1179, -2.1179, -2.1179],\n",
       "           [-2.1179, -2.1179, -2.1179,  ..., -2.1179, -2.1179, -2.1179]],\n",
       " \n",
       "          [[-2.0357, -2.0357, -2.0357,  ...,  1.0455,  1.0455,  1.0455],\n",
       "           [-2.0357, -2.0357, -2.0357,  ...,  1.0455,  1.0455,  1.0455],\n",
       "           [-2.0357, -2.0357, -2.0357,  ...,  1.0455,  1.0455,  1.0455],\n",
       "           ...,\n",
       "           [-2.0357, -2.0357, -2.0357,  ..., -2.0357, -2.0357, -2.0357],\n",
       "           [-2.0357, -2.0357, -2.0357,  ..., -2.0357, -2.0357, -2.0357],\n",
       "           [-2.0357, -2.0357, -2.0357,  ..., -2.0357, -2.0357, -2.0357]],\n",
       " \n",
       "          [[-1.8044, -1.8044, -1.8044,  ...,  1.4025,  1.4025,  1.4025],\n",
       "           [-1.8044, -1.8044, -1.8044,  ...,  1.4025,  1.4025,  1.4025],\n",
       "           [-1.8044, -1.8044, -1.8044,  ...,  1.4025,  1.4025,  1.4025],\n",
       "           ...,\n",
       "           [-1.8044, -1.8044, -1.8044,  ..., -1.8044, -1.8044, -1.8044],\n",
       "           [-1.8044, -1.8044, -1.8044,  ..., -1.8044, -1.8044, -1.8044],\n",
       "           [-1.8044, -1.8044, -1.8044,  ..., -1.8044, -1.8044, -1.8044]]],\n",
       " \n",
       " \n",
       "         [[[-2.1179, -2.1179, -2.1179,  ..., -0.2342, -0.2342, -0.2342],\n",
       "           [-2.1179, -2.1179, -2.1179,  ..., -0.2342, -0.2342, -0.2342],\n",
       "           [-2.1179, -2.1179, -2.1179,  ..., -0.2342, -0.2342, -0.2342],\n",
       "           ...,\n",
       "           [-2.1179, -2.1179, -2.1179,  ..., -1.3644, -1.3644, -1.3644],\n",
       "           [-2.1179, -2.1179, -2.1179,  ..., -1.3302, -1.3302, -1.3302],\n",
       "           [-2.1179, -2.1179, -2.1179,  ..., -1.2959, -1.3130, -1.3130]],\n",
       " \n",
       "          [[-2.0357, -2.0357, -2.0357,  ..., -0.8277, -0.8277, -0.8277],\n",
       "           [-2.0357, -2.0357, -2.0357,  ..., -0.8277, -0.8277, -0.8277],\n",
       "           [-2.0357, -2.0357, -2.0357,  ..., -0.8277, -0.8277, -0.8277],\n",
       "           ...,\n",
       "           [-2.0357, -2.0357, -2.0357,  ..., -0.4426, -0.4426, -0.4426],\n",
       "           [-2.0357, -2.0357, -2.0357,  ..., -0.4601, -0.4601, -0.4601],\n",
       "           [-2.0357, -2.0357, -2.0357,  ..., -0.4951, -0.4776, -0.4776]],\n",
       " \n",
       "          [[-1.8044, -1.8044, -1.8044,  ..., -0.9853, -0.9853, -0.9853],\n",
       "           [-1.8044, -1.8044, -1.8044,  ..., -0.9853, -0.9853, -0.9853],\n",
       "           [-1.8044, -1.8044, -1.8044,  ..., -0.9853, -0.9853, -0.9853],\n",
       "           ...,\n",
       "           [-1.8044, -1.8044, -1.8044,  ..., -0.5147, -0.4973, -0.4973],\n",
       "           [-1.8044, -1.8044, -1.8044,  ..., -0.5321, -0.5321, -0.5321],\n",
       "           [-1.8044, -1.8044, -1.8044,  ..., -0.5670, -0.5670, -0.5670]]],\n",
       " \n",
       " \n",
       "         [[[-1.2788, -1.2788, -1.2274,  ...,  0.3994, -0.0458, -0.5082],\n",
       "           [-1.3302, -1.2617, -1.2103,  ..., -0.0629, -0.5253, -0.8849],\n",
       "           [-1.3644, -1.2959, -1.2274,  ..., -0.3027, -0.7308, -1.0048],\n",
       "           ...,\n",
       "           [-0.0801,  0.3823,  0.3823,  ..., -2.1179, -2.1179, -2.1179],\n",
       "           [-1.8610,  0.0569,  0.0569,  ..., -2.1179, -2.1179, -2.1179],\n",
       "           [-2.1179, -2.1179, -2.1179,  ..., -2.1179, -2.1179, -2.1179]],\n",
       " \n",
       "          [[ 0.4503,  0.4503,  0.4153,  ..., -0.6176, -0.8803, -1.1253],\n",
       "           [ 0.4678,  0.4328,  0.3978,  ..., -0.7927, -1.0553, -1.2129],\n",
       "           [ 0.4678,  0.4328,  0.4153,  ..., -0.7927, -1.0553, -1.1429],\n",
       "           ...,\n",
       "           [-1.1253, -0.9153, -0.9153,  ..., -2.0357, -2.0357, -2.0357],\n",
       "           [-1.9132, -1.0553, -1.0553,  ..., -2.0357, -2.0357, -2.0357],\n",
       "           [-2.0357, -2.0357, -2.0357,  ..., -2.0357, -2.0357, -2.0357]],\n",
       " \n",
       "          [[ 2.0300,  2.0300,  2.0300,  ...,  0.6705,  0.4265,  0.1999],\n",
       "           [ 2.0648,  2.0997,  2.0823,  ...,  0.1651, -0.0790, -0.2532],\n",
       "           [ 2.0997,  2.1520,  2.1171,  ..., -0.3927, -0.6367, -0.7936],\n",
       "           ...,\n",
       "           [ 0.5485,  1.0888,  1.0888,  ..., -1.8044, -1.8044, -1.8044],\n",
       "           [-1.5081,  0.7228,  0.7228,  ..., -1.8044, -1.8044, -1.8044],\n",
       "           [-1.8044, -1.8044, -1.8044,  ..., -1.8044, -1.8044, -1.8044]]]]),\n",
       " ('principal_skinner',\n",
       "  'charles_montgomery_burns',\n",
       "  'krusty_the_clown',\n",
       "  'edna_krabappel',\n",
       "  'bart_simpson',\n",
       "  'homer_simpson',\n",
       "  'ralph_wiggum',\n",
       "  'bart_simpson',\n",
       "  'nelson_muntz',\n",
       "  'edna_krabappel')]"
      ]
     },
     "execution_count": 27,
     "metadata": {},
     "output_type": "execute_result"
    }
   ],
   "source": [
    "for x in dl_train:\n",
    "    break\n",
    "\n",
    "x"
   ]
  },
  {
   "cell_type": "markdown",
   "id": "a5e6e06e-ffb3-4b12-b79b-16137453115a",
   "metadata": {},
   "source": [
    "Our `DataLoader` composes the first batch with the samples at index $0,\\ldots, 9$, the second batch $10,\\ldots,19$ and so on. To compose the batches with random samples, you can pass `shuffle=True` to the `DataLoader` constructor.\n",
    "\n",
    "> ⚠️ **Only shuffle the training set!**\n",
    ">\n",
    "> It is considered bad practice to shuffle any of your evaluation sets, as this might make your evaluations irreproducible."
   ]
  },
  {
   "cell_type": "code",
   "execution_count": 32,
   "id": "f4c7cc79-1ce6-4315-a2a0-871668fc42dd",
   "metadata": {},
   "outputs": [],
   "source": [
    "dl_train = DataLoader(ds_train, batch_size=10, shuffle=True)"
   ]
  },
  {
   "cell_type": "markdown",
   "id": "2aa6e4c6-3cdc-4be5-a883-2eefb76219e0",
   "metadata": {},
   "source": [
    "When taking a look at the implementation of `__getitem__()` in our `PokemonDataset`, you'll see that it involves loading an image from disk with `read_image()` and applying image transforms. Both of these steps may block the computing process for a while. If we'd sequentially run `__getitem__()` for the 10 indices in our batch, it might take some time before the batch is created. Setting the argument `num_workers` as a positive integer will turn on **multi-process data loading** with the specified number of loader worker processes."
   ]
  },
  {
   "cell_type": "code",
   "execution_count": 33,
   "id": "737e4fb7-9e7e-4f43-833b-65847eb79eaf",
   "metadata": {},
   "outputs": [
    {
     "name": "stderr",
     "output_type": "stream",
     "text": [
      "/home/jonas/.local/lib/python3.10/site-packages/torch/utils/data/dataloader.py:557: UserWarning: This DataLoader will create 10 worker processes in total. Our suggested max number of worker in current system is 8, which is smaller than what this DataLoader is going to create. Please be aware that excessive worker creation might get DataLoader running slow or even freeze, lower the worker number to avoid potential slowness/freeze if necessary.\n",
      "  warnings.warn(_create_warning_msg(\n"
     ]
    }
   ],
   "source": [
    "dl_train = DataLoader(ds_train, batch_size=10, shuffle=True, num_workers=10)"
   ]
  },
  {
   "cell_type": "markdown",
   "id": "2ca0f976-19db-42ee-8f35-07cdc1d7e781",
   "metadata": {},
   "source": [
    "In summary, the following code creates our train, validation and test datasets and data loaders."
   ]
  },
  {
   "cell_type": "code",
   "execution_count": 34,
   "id": "463f2957-4ac5-4209-9dc1-594fde0d4e3a",
   "metadata": {},
   "outputs": [],
   "source": [
    "# Create data loaders\n",
    "dl_train = DataLoader(ds_train, batch_size=10, shuffle=True)\n",
    "dl_val = DataLoader(ds_val, batch_size=10, shuffle=False)\n",
    "dl_test = DataLoader(ds_test, batch_size=10, shuffle=False)"
   ]
  },
  {
   "cell_type": "markdown",
   "id": "0fc0e5a5-b2fc-4c0a-9ed0-6a0e171bdf1c",
   "metadata": {},
   "source": [
    "And with this, we have covered everything on the data side! 💪 Our data is now ready to be passed into a neural network!"
   ]
  },
  {
   "cell_type": "code",
   "execution_count": 31,
   "id": "9f4cccdf-820d-4540-abba-5ea4d3bf1381",
   "metadata": {},
   "outputs": [],
   "source": [
    "# ... WRITE YOUR CODE HERE ... #"
   ]
  }
 ],
 "metadata": {
  "kernelspec": {
   "display_name": "Python 3 (ipykernel)",
   "language": "python",
   "name": "python3"
  },
  "language_info": {
   "codemirror_mode": {
    "name": "ipython",
    "version": 3
   },
   "file_extension": ".py",
   "mimetype": "text/x-python",
   "name": "python",
   "nbconvert_exporter": "python",
   "pygments_lexer": "ipython3",
   "version": "3.10.12"
  }
 },
 "nbformat": 4,
 "nbformat_minor": 5
}
